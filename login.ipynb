{
 "cells": [
  {
   "cell_type": "code",
   "execution_count": null,
   "id": "d83ff9a7",
   "metadata": {},
   "outputs": [],
   "source": [
    "import mlflow\n",
    "\n",
    "mlflow.login()"
   ]
  },
  {
   "cell_type": "code",
   "execution_count": null,
   "id": "5adbbb0c",
   "metadata": {},
   "outputs": [],
   "source": [
    "mlflow.set_tracking_uri(\"databricks\")"
   ]
  },
  {
   "cell_type": "code",
   "execution_count": null,
   "id": "20799afc",
   "metadata": {},
   "outputs": [],
   "source": [
    "import os\n",
    "user_email = os.environ.get(\"MLFLOW_USER_EMAIL\", \"<your mail here>\")\n",
    "experiment_name = f\"/Users/{user_email}/check-databricks-connection\"\n",
    "\n",
    "mlflow.create_experiment(\n",
    "    experiment_name,\n",
    "    artifact_location=\"dbfs:/Volumes/test/mlflow/check-databricks-connection\",\n",
    ")\n",
    "mlflow.set_experiment(experiment_name)\n",
    "\n",
    "with mlflow.start_run(run_name= \"Daodau\"):\n",
    "    mlflow.log_metric(\"foo\", 1)\n",
    "    mlflow.log_metric(\"bar\", 2)"
   ]
  }
 ],
 "metadata": {
  "kernelspec": {
   "display_name": "Python 3",
   "language": "python",
   "name": "python3"
  },
  "language_info": {
   "codemirror_mode": {
    "name": "ipython",
    "version": 3
   },
   "file_extension": ".py",
   "mimetype": "text/x-python",
   "name": "python",
   "nbconvert_exporter": "python",
   "pygments_lexer": "ipython3",
   "version": "3.12.1"
  }
 },
 "nbformat": 4,
 "nbformat_minor": 5
}
