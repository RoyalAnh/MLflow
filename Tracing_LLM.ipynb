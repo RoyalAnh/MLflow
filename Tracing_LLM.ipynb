{
 "cells": [
  {
   "cell_type": "markdown",
   "id": "59f6a5a2",
   "metadata": {},
   "source": [
    "### Model được mlflow autolog"
   ]
  },
  {
   "cell_type": "code",
   "execution_count": null,
   "id": "058abc18",
   "metadata": {},
   "outputs": [],
   "source": [
    "import mlflow\n",
    "import openai\n",
    "import os\n",
    "\n",
    "# Đặt API key cho OpenAI\n",
    "os.environ[\"OPENAI_API_KEY\"] = \"YOUR_OPENAI_API_KEY_HERE\"   # Hidden   \n",
    "\n",
    "openai.api_key = \"YOUR_OPENAI_API_KEY_HERE\"             # Direct \n",
    "\n",
    "# Enable MLflow automatic tracing for OpenAI with one line of code!\n",
    "mlflow.openai.autolog()\n",
    "\n",
    "# Use OpenAI Python SDK as usual\n",
    "openai.OpenAI().chat.completions.create(\n",
    "    model=\"gpt-4o-mini\",\n",
    "    messages=[\n",
    "        {\"role\": \"system\", \"content\": \"You are a chatbot.\"},\n",
    "        {\"role\": \"user\", \"content\": \"What is the weather like today?\"},\n",
    "    ],\n",
    ")\n",
    "\n",
    "# Then go to MLflow UI (if not started, run `mlflow ui` in your terminal) to see the trace!"
   ]
  },
  {
   "cell_type": "markdown",
   "id": "c4924c91",
   "metadata": {},
   "source": [
    "### Model không được mlflow autolog"
   ]
  },
  {
   "cell_type": "code",
   "execution_count": null,
   "id": "04022a8b",
   "metadata": {},
   "outputs": [],
   "source": [
    "with mlflow.start_run():"
   ]
  }
 ],
 "metadata": {
  "language_info": {
   "name": "python"
  }
 },
 "nbformat": 4,
 "nbformat_minor": 5
}
