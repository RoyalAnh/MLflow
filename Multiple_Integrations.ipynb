{
 "cells": [
  {
   "cell_type": "code",
   "execution_count": null,
   "id": "0d905047",
   "metadata": {},
   "outputs": [],
   "source": [
    "import mlflow\n",
    "\n",
    "from langchain.prompts import PromptTemplate\n",
    "from langchain_core.output_parsers import StrOutputParser\n",
    "from langchain_openai import ChatOpenAI\n",
    "\n",
    "# Enable MLflow Tracing for both LangChain and OpenAI\n",
    "mlflow.langchain.autolog()\n",
    "mlflow.openai.autolog()\n",
    "\n",
    "\n",
    "# Optional: Set a tracking URI and an experiment\n",
    "mlflow.set_experiment(\"LangChain\")\n",
    "mlflow.set_tracking_uri(\"http://localhost:5000\")\n",
    "\n",
    "# Define a chain that uses OpenAI as an LLM provider\n",
    "llm = ChatOpenAI(model=\"gpt-4o-mini\", temperature=0.7, max_tokens=1000)\n",
    "\n",
    "prompt_template = PromptTemplate.from_template(\n",
    "    \"Answer the question as if you are {person}, fully embodying their style, wit, personality, and habits of speech. \"\n",
    "    \"Emulate their quirks and mannerisms to the best of your ability, embracing their traits—even if they aren't entirely \"\n",
    "    \"constructive or inoffensive. The question is: {question}\"\n",
    ")\n",
    "\n",
    "chain = prompt_template | llm | StrOutputParser()\n",
    "\n",
    "chain.invoke(\n",
    "    {\n",
    "        \"person\": \"Linus Torvalds\",\n",
    "        \"question\": \"Can I just set everyone's access to sudo to make things easier?\",\n",
    "    }\n",
    ")"
   ]
  }
 ],
 "metadata": {
  "language_info": {
   "name": "python"
  }
 },
 "nbformat": 4,
 "nbformat_minor": 5
}
