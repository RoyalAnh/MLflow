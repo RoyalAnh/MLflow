{
 "cells": [
  {
   "cell_type": "code",
   "execution_count": null,
   "id": "96b2452f",
   "metadata": {},
   "outputs": [],
   "source": [
    "import mlflow.sklearn\n",
    "from mlflow import MlflowClient\n",
    "\n",
    "client = MlflowClient()\n",
    "\n",
    "# Set model version alias\n",
    "model_name = \"sk-learn-random-forest-reg-model\"\n",
    "model_version_alias = \"the_best_model_ever\"\n",
    "client.set_registered_model_alias(\n",
    "    model_name, model_version_alias, \"1\"\n",
    ")  # Duplicate of step in UI\n",
    "\n",
    "# Get information about the model\n",
    "model_info = client.get_model_version_by_alias(model_name, model_version_alias)\n",
    "model_tags = model_info.tags\n",
    "print(model_tags)\n",
    "\n",
    "# Get the model version using a model URI\n",
    "model_uri = f\"models:/{model_name}@{model_version_alias}\"\n",
    "model = mlflow.sklearn.load_model(model_uri)\n",
    "\n",
    "print(model)"
   ]
  }
 ],
 "metadata": {
  "language_info": {
   "name": "python"
  }
 },
 "nbformat": 4,
 "nbformat_minor": 5
}
